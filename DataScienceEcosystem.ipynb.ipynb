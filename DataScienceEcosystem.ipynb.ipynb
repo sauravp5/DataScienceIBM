{
 "cells": [
  {
   "cell_type": "markdown",
   "id": "76c5d20c-0d97-488e-8818-f3424825d032",
   "metadata": {},
   "source": [
    "# Data Science Tools and Ecosystem"
   ]
  },
  {
   "cell_type": "markdown",
   "id": "14d9dd44-b5fb-4935-8e2a-f2164d92ba6a",
   "metadata": {},
   "source": [
    "In this notebook, Data Science Tools and Ecosystem are summarized."
   ]
  },
  {
   "cell_type": "markdown",
   "id": "fe01d9ea-7caa-4cc1-afd5-fbfdf51fa352",
   "metadata": {},
   "source": [
    "<b> Objectives: </b>\n",
    "<ul> \n",
    "    <li>List popular languages for Data Science</li>\n",
    "    <li>List popular librares for Data Science</li>\n",
    "    <li> List popular Data Science tools</li>\n",
    "    <li> Give examples of evaluating aritmetic expressions in Python </li>\n",
    "</ul>"
   ]
  },
  {
   "cell_type": "markdown",
   "id": "9886232c-7a07-4ac1-9d4f-223ef31da4a2",
   "metadata": {},
   "source": [
    "## Author\n",
    "Saurav"
   ]
  },
  {
   "cell_type": "markdown",
   "id": "c58e9610-3d9e-4f48-b690-4d6176b1457d",
   "metadata": {},
   "source": [
    "Some of the popular languages that Data Scientists use are:\n",
    "<ol>\n",
    "    <li>Python</li>\n",
    "    <li>R</li>\n",
    "    <li>Julia</li>\n",
    "</ol>\n",
    "\n"
   ]
  },
  {
   "cell_type": "markdown",
   "id": "1176ef91-4ea3-486e-b4bd-e38cb38e3936",
   "metadata": {},
   "source": [
    "Some of the commonly used libraries used by Data Scientists include:\n",
    "<ol>\n",
    "    <li>Pandas</li>\n",
    "    <li>NumPy</li>\n",
    "    <li>SciPy</li>\n",
    "    <li>Sci-Kit Learn</li>\n",
    "</ol>"
   ]
  },
  {
   "cell_type": "markdown",
   "id": "ddf7a01c-a64b-4e9f-9df2-4f73b8285c27",
   "metadata": {},
   "source": [
    "| Data Science Tools |\n",
    "|----|\n",
    "|Jupyter Notebook |\n",
    "|JupyterLab|\n",
    "|RStudio|"
   ]
  },
  {
   "cell_type": "markdown",
   "id": "6fa8a9c4-bd19-46d5-ba59-1562e38a4eb4",
   "metadata": {},
   "source": [
    "### Below are a few examples of evaluating arithmetic expressions in Python"
   ]
  },
  {
   "cell_type": "code",
   "execution_count": 2,
   "id": "b9c88e23-b6b9-4d18-9e86-1df8af025737",
   "metadata": {},
   "outputs": [
    {
     "data": {
      "text/plain": [
       "17"
      ]
     },
     "execution_count": 2,
     "metadata": {},
     "output_type": "execute_result"
    }
   ],
   "source": [
    "# This a simple arithmetic expression to mutiply then add integers\n",
    "(3*4)+5"
   ]
  },
  {
   "cell_type": "code",
   "execution_count": 3,
   "id": "b4d4036b-0ed6-43d2-ab0a-bea366b9fe9c",
   "metadata": {},
   "outputs": [
    {
     "data": {
      "text/plain": [
       "3.3333333333333335"
      ]
     },
     "execution_count": 3,
     "metadata": {},
     "output_type": "execute_result"
    }
   ],
   "source": [
    "# This will convert 200 minutes to hours by diving by 60\n",
    "minutes = 200\n",
    "hours = minutes/60\n",
    "hours"
   ]
  },
  {
   "cell_type": "code",
   "execution_count": null,
   "id": "9bd1ef5a-3937-424e-81c1-7410ffb88f5c",
   "metadata": {},
   "outputs": [],
   "source": []
  }
 ],
 "metadata": {
  "kernelspec": {
   "display_name": "Python 3 (ipykernel)",
   "language": "python",
   "name": "python3"
  },
  "language_info": {
   "codemirror_mode": {
    "name": "ipython",
    "version": 3
   },
   "file_extension": ".py",
   "mimetype": "text/x-python",
   "name": "python",
   "nbconvert_exporter": "python",
   "pygments_lexer": "ipython3",
   "version": "3.12.8"
  }
 },
 "nbformat": 4,
 "nbformat_minor": 5
}
